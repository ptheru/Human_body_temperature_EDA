{
 "cells": [
  {
   "cell_type": "markdown",
   "metadata": {},
   "source": [
    "# What is the True Normal Human Body Temperature? \n",
    "\n",
    "#### Background\n",
    "\n",
    "The mean normal body temperature was held to be 37$^{\\circ}$C or 98.6$^{\\circ}$F for more than 120 years since it was first conceptualized and reported by Carl Wunderlich in a famous 1868 book. But, is this value statistically correct?"
   ]
  },
  {
   "cell_type": "markdown",
   "metadata": {},
   "source": [
    "<h3>Exercises</h3>\n",
    "\n",
    "<p>In this exercise, you will analyze a dataset of human body temperatures and employ the concepts of hypothesis testing, confidence intervals, and statistical significance.</p>\n",
    "\n",
    "<p>Answer the following questions <b>in this notebook below and submit to your Github account</b>.</p> \n",
    "\n",
    "<ol>\n",
    "<li>  Is the distribution of body temperatures normal? \n",
    "    <ul>\n",
    "    <li> Although this is not a requirement for the Central Limit Theorem to hold (read the introduction on Wikipedia's page about the CLT carefully: https://en.wikipedia.org/wiki/Central_limit_theorem), it gives us some peace of mind that the population may also be normally distributed if we assume that this sample is representative of the population.\n",
    "    <li> Think about the way you're going to check for the normality of the distribution. Graphical methods are usually used first, but there are also other ways: https://en.wikipedia.org/wiki/Normality_test\n",
    "    </ul>\n",
    "<li>  Is the sample size large? Are the observations independent?\n",
    "    <ul>\n",
    "    <li> Remember that this is a condition for the Central Limit Theorem, and hence the statistical tests we are using, to apply.\n",
    "    </ul>\n",
    "<li>  Is the true population mean really 98.6 degrees F?\n",
    "    <ul>\n",
    "    <li> First, try a bootstrap hypothesis test.\n",
    "    <li> Now, let's try frequentist statistical testing. Would you use a one-sample or two-sample test? Why?\n",
    "    <li> In this situation, is it appropriate to use the $t$ or $z$ statistic? \n",
    "    <li> Now try using the other test. How is the result be different? Why?\n",
    "    </ul>\n",
    "<li>  Draw a small sample of size 10 from the data and repeat both frequentist tests. \n",
    "    <ul>\n",
    "    <li> Which one is the correct one to use? \n",
    "    <li> What do you notice? What does this tell you about the difference in application of the $t$ and $z$ statistic?\n",
    "    </ul>\n",
    "<li>  At what temperature should we consider someone's temperature to be \"abnormal\"?\n",
    "    <ul>\n",
    "    <li> As in the previous example, try calculating everything using the boostrap approach, as well as the frequentist approach.\n",
    "    <li> Start by computing the margin of error and confidence interval. When calculating the confidence interval, keep in mind that you should use the appropriate formula for one draw, and not N draws.\n",
    "    </ul>\n",
    "<li>  Is there a significant difference between males and females in normal temperature?\n",
    "    <ul>\n",
    "    <li> What testing approach did you use and why?\n",
    "    <li> Write a story with your conclusion in the context of the original problem.\n",
    "    </ul>\n",
    "</ol>\n",
    "\n",
    "You can include written notes in notebook cells using Markdown: \n",
    "   - In the control panel at the top, choose Cell > Cell Type > Markdown\n",
    "   - Markdown syntax: http://nestacms.com/docs/creating-content/markdown-cheat-sheet\n",
    "\n",
    "#### Resources\n",
    "\n",
    "+ Information and data sources: http://www.amstat.org/publications/jse/datasets/normtemp.txt, http://www.amstat.org/publications/jse/jse_data_archive.htm\n",
    "+ Markdown syntax: http://nestacms.com/docs/creating-content/markdown-cheat-sheet\n",
    "\n",
    "****"
   ]
  },
  {
   "cell_type": "code",
   "execution_count": 1,
   "metadata": {},
   "outputs": [],
   "source": [
    "import pandas as pd\n",
    "\n",
    "df = pd.read_csv('data/human_body_temperature.csv')"
   ]
  },
  {
   "cell_type": "markdown",
   "metadata": {},
   "source": [
    "# Is the distribution of body temperatures normal?\n",
    "Although this is not a requirement for the Central Limit Theorem to hold (read the introduction on Wikipedia's page about the CLT carefully: https://en.wikipedia.org/wiki/Central_limit_theorem), it gives us some peace of mind that the population may also be normally distributed if we assume that this sample is representative of the population.\n",
    "Think about the way you're going to check for the normality of the distribution. Graphical methods are usually used first, but there are also other ways: https://en.wikipedia.org/wiki/Normality_test"
   ]
  },
  {
   "cell_type": "code",
   "execution_count": 2,
   "metadata": {},
   "outputs": [
    {
     "data": {
      "text/html": [
       "<div>\n",
       "<style scoped>\n",
       "    .dataframe tbody tr th:only-of-type {\n",
       "        vertical-align: middle;\n",
       "    }\n",
       "\n",
       "    .dataframe tbody tr th {\n",
       "        vertical-align: top;\n",
       "    }\n",
       "\n",
       "    .dataframe thead th {\n",
       "        text-align: right;\n",
       "    }\n",
       "</style>\n",
       "<table border=\"1\" class=\"dataframe\">\n",
       "  <thead>\n",
       "    <tr style=\"text-align: right;\">\n",
       "      <th></th>\n",
       "      <th>temperature</th>\n",
       "      <th>gender</th>\n",
       "      <th>heart_rate</th>\n",
       "    </tr>\n",
       "  </thead>\n",
       "  <tbody>\n",
       "    <tr>\n",
       "      <th>0</th>\n",
       "      <td>99.3</td>\n",
       "      <td>F</td>\n",
       "      <td>68.0</td>\n",
       "    </tr>\n",
       "    <tr>\n",
       "      <th>1</th>\n",
       "      <td>98.4</td>\n",
       "      <td>F</td>\n",
       "      <td>81.0</td>\n",
       "    </tr>\n",
       "    <tr>\n",
       "      <th>2</th>\n",
       "      <td>97.8</td>\n",
       "      <td>M</td>\n",
       "      <td>73.0</td>\n",
       "    </tr>\n",
       "    <tr>\n",
       "      <th>3</th>\n",
       "      <td>99.2</td>\n",
       "      <td>F</td>\n",
       "      <td>66.0</td>\n",
       "    </tr>\n",
       "    <tr>\n",
       "      <th>4</th>\n",
       "      <td>98.0</td>\n",
       "      <td>F</td>\n",
       "      <td>73.0</td>\n",
       "    </tr>\n",
       "  </tbody>\n",
       "</table>\n",
       "</div>"
      ],
      "text/plain": [
       "   temperature gender  heart_rate\n",
       "0         99.3      F        68.0\n",
       "1         98.4      F        81.0\n",
       "2         97.8      M        73.0\n",
       "3         99.2      F        66.0\n",
       "4         98.0      F        73.0"
      ]
     },
     "execution_count": 2,
     "metadata": {},
     "output_type": "execute_result"
    }
   ],
   "source": [
    "df.head()"
   ]
  },
  {
   "cell_type": "code",
   "execution_count": 8,
   "metadata": {},
   "outputs": [],
   "source": [
    "import numpy as np\n",
    "mean_temp = np.mean(df.temperature)\n",
    "std_temp = np.std(df.temperature)\n",
    "len_temp = len(df.temperature)"
   ]
  },
  {
   "cell_type": "code",
   "execution_count": 9,
   "metadata": {},
   "outputs": [],
   "source": [
    "from scipy.stats import norm\n",
    "data_norm = norm.rvs(size=len_temp,loc=mean_temp,scale=std_temp)"
   ]
  },
  {
   "cell_type": "code",
   "execution_count": 23,
   "metadata": {},
   "outputs": [
    {
     "data": {
      "text/plain": [
       "[Text(0, 0.5, 'Frequency'), Text(0.5, 0, 'Normal Distribution')]"
      ]
     },
     "execution_count": 23,
     "metadata": {},
     "output_type": "execute_result"
    },
    {
     "data": {
      "image/png": "[encoded data removed]",
      "text/plain": [
       "<Figure size 432x288 with 1 Axes>"
      ]
     },
     "metadata": {
      "needs_background": "light"
     },
     "output_type": "display_data"
    }
   ],
   "source": [
    "import seaborn as sns\n",
    "ax = sns.distplot(data_norm,kde=True,hist=False, bins=100,color='green',label = 'Random Normal curve')\n",
    "ax = sns.distplot(df['temperature'],kde=True,hist=False,bins=100,color='blue',label='Temperature curve')\n",
    "ax.set(xlabel='Normal Distribution', ylabel='Frequency')"
   ]
  },
  {
   "cell_type": "code",
   "execution_count": 24,
   "metadata": {},
   "outputs": [],
   "source": [
    "def ECDF(data):\n",
    "    n = len(data)\n",
    "    x = np.sort(data)\n",
    "    y = np.arange(1,n+1)/n\n",
    "    return x,y"
   ]
  },
  {
   "cell_type": "code",
   "execution_count": 26,
   "metadata": {},
   "outputs": [
    {
     "data": {
      "text/plain": [
       "[<matplotlib.lines.Line2D at 0x1a212fc898>]"
      ]
     },
     "execution_count": 26,
     "metadata": {},
     "output_type": "execute_result"
    },
    {
     "data": {
      "image/png": "[encoded data removed]",
      "text/plain": [
       "<Figure size 432x288 with 1 Axes>"
      ]
     },
     "metadata": {
      "needs_background": "light"
     },
     "output_type": "display_data"
    }
   ],
   "source": [
    "import matplotlib.pyplot as plt\n",
    "rand_x, rand_y = ECDF(data_norm)\n",
    "temp_x , temp_y = ECDF(df['temperature'])\n",
    "plt.plot(rand_x,rand_y,linestyle='none',marker='.',color='green')\n",
    "plt.plot(temp_x,temp_y,linestyle='none',marker='.',color='blue')"
   ]
  },
  {
   "cell_type": "code",
   "execution_count": 91,
   "metadata": {},
   "outputs": [
    {
     "name": "stdout",
     "output_type": "stream",
     "text": [
      "Temperature Curve is normally distributed\n"
     ]
    }
   ],
   "source": [
    "import scipy.stats as stats\n",
    "alpha = 0.05\n",
    "\n",
    "stat, p = stats.shapiro(df[\"temperature\"])\n",
    "\n",
    "if p > alpha:\n",
    "    print(\"Temperature Curve is normally distributed\")\n",
    "else:\n",
    "    print(\"Temperature Curve is not normally distributed\")"
   ]
  },
  {
   "cell_type": "markdown",
   "metadata": {},
   "source": [
    "# Is the sample size large? Are the observations independent?\n",
    "Remember that this is a condition for the Central Limit Theorem, and hence the statistical tests we are using, to apply."
   ]
  },
  {
   "cell_type": "code",
   "execution_count": 32,
   "metadata": {},
   "outputs": [
    {
     "data": {
      "text/plain": [
       "[<matplotlib.lines.Line2D at 0x1a23288cf8>]"
      ]
     },
     "execution_count": 32,
     "metadata": {},
     "output_type": "execute_result"
    },
    {
     "data": {
      "image/png": "[encoded data removed]",
      "text/plain": [
       "<Figure size 432x288 with 1 Axes>"
      ]
     },
     "metadata": {
      "needs_background": "light"
     },
     "output_type": "display_data"
    }
   ],
   "source": [
    "for i in range(1000):\n",
    "    bs = np.random.choice(df.temperature,size=len(df.temperature))\n",
    "    \n",
    "    x,y = ECDF(bs)\n",
    "    plt.plot(x,y,marker='.',linestyle='none',color='orange')\n",
    "    \n",
    "temp_x , temp_y = ECDF(df['temperature'])\n",
    "plt.plot(temp_x,temp_y,linestyle='none',marker='.',color='blue')"
   ]
  },
  {
   "cell_type": "code",
   "execution_count": 33,
   "metadata": {},
   "outputs": [
    {
     "name": "stdout",
     "output_type": "stream",
     "text": [
      "130\n"
     ]
    }
   ],
   "source": [
    "print(len(df.temperature))"
   ]
  },
  {
   "cell_type": "markdown",
   "metadata": {},
   "source": [
    "According to the 10% rule, sample size less than or equal to 10% of the population size is considered to be independent. The sample size is 130. The human population around the 1900's have to be less than 1,300 for the observations to be considered dependent. Therefore, the sample entries can be said to be independent of each other."
   ]
  },
  {
   "cell_type": "markdown",
   "metadata": {},
   "source": [
    "# Is the true population mean really 98.6 degrees F?\n",
    "First, try a bootstrap hypothesis test.\n",
    "Now, let's try frequentist statistical testing. Would you use a one-sample or two-sample test? Why?\n",
    "In this situation, is it appropriate to use the  𝑡  or  𝑧  statistic?\n",
    "Now try using the other test. How is the result be different? Why?"
   ]
  },
  {
   "cell_type": "markdown",
   "metadata": {},
   "source": [
    "Null hypothesis : Temperature Mean is 98.6F\n",
    "\n",
    "Alternate hypothesis : Temperature Mean is not 98.6F"
   ]
  },
  {
   "cell_type": "markdown",
   "metadata": {},
   "source": [
    "We will be performing one sample Bootstrap test as we are comparing our dataset with a set mean value."
   ]
  },
  {
   "cell_type": "code",
   "execution_count": 38,
   "metadata": {},
   "outputs": [],
   "source": [
    "alpha = 0.05\n",
    "hyp_mean = 98.6"
   ]
  },
  {
   "cell_type": "code",
   "execution_count": 34,
   "metadata": {},
   "outputs": [],
   "source": [
    "#defining test statistic:\n",
    "\n",
    "def test_statistic(data,hyp_mean=98.6):\n",
    "    x = np.mean(data) - hyp_mean\n",
    "    return x"
   ]
  },
  {
   "cell_type": "code",
   "execution_count": 35,
   "metadata": {},
   "outputs": [],
   "source": [
    "#defining function to create bootstrap samples:\n",
    "\n",
    "def bootstrap_samples(data,func):\n",
    "    return func(np.random.choice(data,size=len(data)))"
   ]
  },
  {
   "cell_type": "code",
   "execution_count": 36,
   "metadata": {},
   "outputs": [],
   "source": [
    "#defining function to create bootstrap replicates:\n",
    "\n",
    "def bootstrap_replicates(data,func,size=1):\n",
    "    \n",
    "    bs_replicate = np.empty(size)\n",
    "    \n",
    "    for i in range(size):\n",
    "        bs_replicate[i] = bootstrap_samples(data,func)\n",
    "        \n",
    "    return bs_replicate"
   ]
  },
  {
   "cell_type": "code",
   "execution_count": 44,
   "metadata": {},
   "outputs": [
    {
     "name": "stdout",
     "output_type": "stream",
     "text": [
      "The shifted mean is : 98.6F\n"
     ]
    }
   ],
   "source": [
    "#shift the mean:\n",
    "\n",
    "shifted_temp = df['temperature'] - np.mean(df['temperature']) + hyp_mean\n",
    "\n",
    "print(\"The shifted mean is : %.1fF\" % np.mean(shifted_temp))"
   ]
  },
  {
   "cell_type": "code",
   "execution_count": 46,
   "metadata": {},
   "outputs": [
    {
     "name": "stdout",
     "output_type": "stream",
     "text": [
      "-0.35076923076921673\n"
     ]
    }
   ],
   "source": [
    "obs_mean = test_statistic(df.temperature)\n",
    "print(obs_mean)"
   ]
  },
  {
   "cell_type": "code",
   "execution_count": 48,
   "metadata": {},
   "outputs": [],
   "source": [
    "bs_replicates = bootstrap_replicates(shifted_temp,test_statistic,size=10000)"
   ]
  },
  {
   "cell_type": "code",
   "execution_count": 63,
   "metadata": {},
   "outputs": [
    {
     "name": "stdout",
     "output_type": "stream",
     "text": [
      "We can reject null hypothesis that the temperature mean is 98.6F with p-value as 0.0\n"
     ]
    }
   ],
   "source": [
    "p = np.sum(bs_replicates <= obs_mean)/10000\n",
    "\n",
    "if p <= alpha:\n",
    "    print(\"We can reject null hypothesis that the temperature mean is 98.6F with p-value as \" + str(p))\n",
    "else:\n",
    "    print(\"We cannot reject null hypothesis that the temperature mean is 98.6F with p-value as \" + str(p))"
   ]
  },
  {
   "cell_type": "markdown",
   "metadata": {},
   "source": [
    "Since the sample size is greater than 30 (n > 30), it is appropriate to use z-test."
   ]
  },
  {
   "cell_type": "code",
   "execution_count": 64,
   "metadata": {},
   "outputs": [
    {
     "name": "stdout",
     "output_type": "stream",
     "text": [
      "We can reject null hypothesis that the temperature mean is 98.6F with p-value as 4.9021570141012155e-08\n"
     ]
    }
   ],
   "source": [
    "from statsmodels.stats import weightstats as weight\n",
    "z,pz = weight.ztest(df.temperature,value=98.6)\n",
    "\n",
    "if pz <= alpha:\n",
    "     print(\"We can reject null hypothesis that the temperature mean is 98.6F with p-value as \" + str(pz))\n",
    "else:\n",
    "    print(\"We cannot reject null hypothesis that the temperature mean is 98.6F with p-value as \" + str(pz))"
   ]
  },
  {
   "cell_type": "markdown",
   "metadata": {},
   "source": [
    "Let us try using t-test now."
   ]
  },
  {
   "cell_type": "code",
   "execution_count": 65,
   "metadata": {},
   "outputs": [
    {
     "name": "stdout",
     "output_type": "stream",
     "text": [
      "We can reject null hypothesis that the temperature mean is 98.6F with p-value as 2.4106320415561276e-07\n"
     ]
    }
   ],
   "source": [
    "t,pt = stats.ttest_1samp(df.temperature,98.6)\n",
    "\n",
    "if pt <= alpha:\n",
    "     print(\"We can reject null hypothesis that the temperature mean is 98.6F with p-value as \" + str(pt))\n",
    "else:\n",
    "    print(\"We cannot reject null hypothesis that the temperature mean is 98.6F with p-value as \" + str(pt))"
   ]
  },
  {
   "cell_type": "markdown",
   "metadata": {},
   "source": [
    "We get the same conclusion in either approach. Therefore, the temperature mean is NOT 98.6F"
   ]
  },
  {
   "cell_type": "markdown",
   "metadata": {},
   "source": [
    "# Draw a small sample of size 10 from the data and repeat both frequentist tests.\n",
    "Which one is the correct one to use?\n",
    "What do you notice? What does this tell you about the difference in application of the  𝑡  and  𝑧  statistic?"
   ]
  },
  {
   "cell_type": "code",
   "execution_count": 55,
   "metadata": {},
   "outputs": [],
   "source": [
    "sample = df.sample(n=10,replace=False)"
   ]
  },
  {
   "cell_type": "markdown",
   "metadata": {},
   "source": [
    "Since the sample size is less than 30 ( n < 30), t-test is preferable."
   ]
  },
  {
   "cell_type": "code",
   "execution_count": 67,
   "metadata": {},
   "outputs": [
    {
     "name": "stdout",
     "output_type": "stream",
     "text": [
      "We cannot reject null hypothesis that the temperature mean is 98.6F with p-value as 0.1296548348927496\n"
     ]
    }
   ],
   "source": [
    "t, pt1 = stats.ttest_1samp(sample.temperature,98.6)\n",
    "\n",
    "if pt1 <= alpha:\n",
    "     print(\"We can reject null hypothesis  that the temperature mean is 98.6F with p-value as \" + str(pt1))\n",
    "else:\n",
    "    print(\"We cannot reject null hypothesis that the temperature mean is 98.6F with p-value as \" + str(pt1))"
   ]
  },
  {
   "cell_type": "markdown",
   "metadata": {},
   "source": [
    "Let us try z-test now."
   ]
  },
  {
   "cell_type": "code",
   "execution_count": 68,
   "metadata": {},
   "outputs": [
    {
     "name": "stdout",
     "output_type": "stream",
     "text": [
      "We cannot reject null hypothesis which means that the temperature mean is 98.6F with p-value as 0.09530915845284846\n"
     ]
    }
   ],
   "source": [
    "z1, pz1 = weight.ztest(sample.temperature,value=98.6)\n",
    "\n",
    "if pz1 <= alpha:\n",
    "     print(\"We can reject null hypothesis that the temperature mean is 98.6F with p-value as \" + str(pz1))\n",
    "else:\n",
    "    print(\"We cannot reject null hypothesis that the temperature mean is 98.6F with p-value as \" + str(pz1))\n"
   ]
  },
  {
   "cell_type": "markdown",
   "metadata": {},
   "source": [
    "Both the tests confirms that the true population mean is 98.6F for a sample size of 10. I think this is due to the fact that there is a drastic decrease in the sample size."
   ]
  },
  {
   "cell_type": "markdown",
   "metadata": {},
   "source": [
    "# At what temperature should we consider someone's temperature to be \"abnormal\"?\n",
    "As in the previous example, try calculating everything using the boostrap approach, as well as the frequentist approach.\n",
    "Start by computing the margin of error and confidence interval. When calculating the confidence interval, keep in mind that you should use the appropriate formula for one draw, and not N draws."
   ]
  },
  {
   "cell_type": "code",
   "execution_count": 69,
   "metadata": {},
   "outputs": [
    {
     "name": "stdout",
     "output_type": "stream",
     "text": [
      "[98.12769231 98.37463462]\n"
     ]
    }
   ],
   "source": [
    "bs_repl = bootstrap_replicates(df.temperature,np.mean,size=10000)\n",
    "\n",
    "normal_temp = np.percentile(bs_repl,[2.5,97.5])\n",
    "print(normal_temp)"
   ]
  },
  {
   "cell_type": "markdown",
   "metadata": {},
   "source": [
    "Since the 95% confidence interval is between 98.12538462 and 98.37538462. Any temperature below or above this range can be considered as abnormal."
   ]
  },
  {
   "cell_type": "code",
   "execution_count": 70,
   "metadata": {},
   "outputs": [
    {
     "name": "stdout",
     "output_type": "stream",
     "text": [
      "0.125550964802579\n"
     ]
    }
   ],
   "source": [
    "#margin of error:\n",
    "#margin of error = z-value*(std)/sqrt(n) ;\n",
    "#z-value is used since the sample size > 30 and z-value is 1.96 if you want to be 95% confident.\n",
    "\n",
    "\n",
    "mer = 1.96* np.std(df.temperature)/np.sqrt(len(df.temperature))\n",
    "\n",
    "print(mer)"
   ]
  },
  {
   "cell_type": "markdown",
   "metadata": {},
   "source": [
    "# Is there a significant difference between males and females in normal temperature?\n",
    "What testing approach did you use and why?\n",
    "Write a story with your conclusion in the context of the original problem."
   ]
  },
  {
   "cell_type": "code",
   "execution_count": 72,
   "metadata": {},
   "outputs": [],
   "source": [
    "df_male = df[df.gender == 'M']\n",
    "df_female = df[df.gender == 'F']"
   ]
  },
  {
   "cell_type": "markdown",
   "metadata": {},
   "source": [
    "We will perform bootstrap hypothesis to check if our null hypothesis is true.\n",
    "\n",
    "Null hypothesis : There is no significant difference between both male and female in normal temperature. \n",
    "\n",
    "Alternate hypothesis : There is significant difference between both male and female in normal temperature."
   ]
  },
  {
   "cell_type": "code",
   "execution_count": 92,
   "metadata": {},
   "outputs": [
    {
     "name": "stdout",
     "output_type": "stream",
     "text": [
      "0.289230769230727\n"
     ]
    }
   ],
   "source": [
    "empirical_diff = np.mean(df_female.temperature) - np.mean(df_male.temperature)\n",
    "print(empirical_diff)"
   ]
  },
  {
   "cell_type": "code",
   "execution_count": 89,
   "metadata": {},
   "outputs": [
    {
     "name": "stdout",
     "output_type": "stream",
     "text": [
      "We can reject null hypothesis with p-value as 0.0131\n"
     ]
    }
   ],
   "source": [
    "shifted_male = df_male.temperature - np.mean(df_male.temperature) + np.mean(df.temperature)\n",
    "shifted_female = df_female.temperature - np.mean(df_female.temperature) + np.mean(df.temperature)\n",
    "\n",
    "bs_replicates_male = bootstrap_replicates(shifted_male,np.mean,10000)\n",
    "bs_replicates_female = bootstrap_replicates(shifted_female,np.mean,10000)\n",
    "\n",
    "bs_replicates_gender = bs_replicates_female - bs_replicates_male\n",
    "\n",
    "pgender = np.sum(bs_replicates_gender >= empirical_diff)/len(bs_replicates_gender)\n",
    "\n",
    "if pgender <= alpha:\n",
    "     print(\"We can reject null hypothesis with p-value as \" + str(pgender))\n",
    "else:\n",
    "    print(\"We cannot reject null hypothesis with p-value as \" + str(pgender))\n"
   ]
  },
  {
   "cell_type": "markdown",
   "metadata": {},
   "source": [
    "The analysis concludes that there is significant difference between male and female normal body temperatures."
   ]
  },
  {
   "cell_type": "code",
   "execution_count": null,
   "metadata": {},
   "outputs": [],
   "source": []
  }
 ],
 "metadata": {
  "kernelspec": {
   "display_name": "Python 3",
   "language": "python",
   "name": "python3"
  },
  "language_info": {
   "codemirror_mode": {
    "name": "ipython",
    "version": 3
   },
   "file_extension": ".py",
   "mimetype": "text/x-python",
   "name": "python",
   "nbconvert_exporter": "python",
   "pygments_lexer": "ipython3",
   "version": "3.7.3"
  }
 },
 "nbformat": 4,
 "nbformat_minor": 1
}
